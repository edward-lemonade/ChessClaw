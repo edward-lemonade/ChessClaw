{
 "cells": [
  {
   "cell_type": "code",
   "execution_count": 10,
   "id": "281699f3-47f3-40c1-914b-2e11938a983a",
   "metadata": {},
   "outputs": [
    {
     "name": "stdout",
     "output_type": "stream",
     "text": [
      "Requirement already satisfied: yolov5 in ./.local/lib/python3.10/site-packages (7.0.13)\n",
      "Collecting google-cloud-secret-manager\n",
      "  Obtaining dependency information for google-cloud-secret-manager from https://files.pythonhosted.org/packages/e2/64/d654d419dac6e313de993c58b821f6dbbf757cf61dfd7c37de4443dac550/google_cloud_secret_manager-2.16.4-py2.py3-none-any.whl.metadata\n",
      "  Downloading google_cloud_secret_manager-2.16.4-py2.py3-none-any.whl.metadata (5.1 kB)\n",
      "Requirement already satisfied: gitpython>=3.1.30 in /opt/conda/lib/python3.10/site-packages (from yolov5) (3.1.37)\n",
      "Requirement already satisfied: matplotlib>=3.3 in /opt/conda/lib/python3.10/site-packages (from yolov5) (3.8.0)\n",
      "Requirement already satisfied: numpy>=1.18.5 in /opt/conda/lib/python3.10/site-packages (from yolov5) (1.23.5)\n",
      "Collecting opencv-python>=4.1.1 (from yolov5)\n",
      "  Obtaining dependency information for opencv-python>=4.1.1 from https://files.pythonhosted.org/packages/b7/8a/b2f7e1a434d56bf1d7570fc5941ace0847404e1032d7f1f0b8fed896568d/opencv_python-4.8.1.78-cp37-abi3-manylinux_2_17_x86_64.manylinux2014_x86_64.whl.metadata\n",
      "  Using cached opencv_python-4.8.1.78-cp37-abi3-manylinux_2_17_x86_64.manylinux2014_x86_64.whl.metadata (19 kB)\n",
      "Requirement already satisfied: Pillow>=7.1.2 in /opt/conda/lib/python3.10/site-packages (from yolov5) (10.0.1)\n",
      "Requirement already satisfied: psutil in /opt/conda/lib/python3.10/site-packages (from yolov5) (5.9.3)\n",
      "Requirement already satisfied: PyYAML>=5.3.1 in /opt/conda/lib/python3.10/site-packages (from yolov5) (6.0.1)\n",
      "Requirement already satisfied: requests>=2.23.0 in /opt/conda/lib/python3.10/site-packages (from yolov5) (2.31.0)\n",
      "Requirement already satisfied: scipy>=1.4.1 in /opt/conda/lib/python3.10/site-packages (from yolov5) (1.11.2)\n",
      "Requirement already satisfied: thop>=0.1.1 in ./.local/lib/python3.10/site-packages (from yolov5) (0.1.1.post2209072238)\n",
      "Requirement already satisfied: torch>=1.7.0 in /opt/conda/lib/python3.10/site-packages (from yolov5) (2.0.0+cu118)\n",
      "Requirement already satisfied: torchvision>=0.8.1 in /opt/conda/lib/python3.10/site-packages (from yolov5) (0.15.1+cu118)\n",
      "Requirement already satisfied: tqdm>=4.64.0 in /opt/conda/lib/python3.10/site-packages (from yolov5) (4.66.1)\n",
      "Requirement already satisfied: ultralytics>=8.0.100 in ./.local/lib/python3.10/site-packages (from yolov5) (8.0.200)\n",
      "Requirement already satisfied: tensorboard>=2.4.1 in ./.local/lib/python3.10/site-packages (from yolov5) (2.15.0)\n",
      "Requirement already satisfied: pandas>=1.1.4 in /opt/conda/lib/python3.10/site-packages (from yolov5) (2.0.3)\n",
      "Requirement already satisfied: seaborn>=0.11.0 in /opt/conda/lib/python3.10/site-packages (from yolov5) (0.12.2)\n",
      "Requirement already satisfied: setuptools>=65.5.1 in /opt/conda/lib/python3.10/site-packages (from yolov5) (68.2.2)\n",
      "Requirement already satisfied: fire in ./.local/lib/python3.10/site-packages (from yolov5) (0.5.0)\n",
      "Requirement already satisfied: boto3>=1.19.1 in ./.local/lib/python3.10/site-packages (from yolov5) (1.28.67)\n",
      "Requirement already satisfied: sahi>=0.11.10 in ./.local/lib/python3.10/site-packages (from yolov5) (0.11.14)\n",
      "Requirement already satisfied: huggingface-hub>=0.12.0 in ./.local/lib/python3.10/site-packages (from yolov5) (0.18.0)\n",
      "Requirement already satisfied: roboflow>=0.2.29 in ./.local/lib/python3.10/site-packages (from yolov5) (1.1.7)\n",
      "Requirement already satisfied: google-api-core[grpc]!=2.0.*,!=2.1.*,!=2.10.*,!=2.2.*,!=2.3.*,!=2.4.*,!=2.5.*,!=2.6.*,!=2.7.*,!=2.8.*,!=2.9.*,<3.0.0dev,>=1.34.0 in /opt/conda/lib/python3.10/site-packages (from google-cloud-secret-manager) (1.34.0)\n",
      "Requirement already satisfied: proto-plus<2.0.0dev,>=1.22.0 in /opt/conda/lib/python3.10/site-packages (from google-cloud-secret-manager) (1.22.3)\n",
      "Requirement already satisfied: protobuf!=3.20.0,!=3.20.1,!=4.21.0,!=4.21.1,!=4.21.2,!=4.21.3,!=4.21.4,!=4.21.5,<5.0.0dev,>=3.19.5 in /opt/conda/lib/python3.10/site-packages (from google-cloud-secret-manager) (3.20.3)\n",
      "Requirement already satisfied: grpc-google-iam-v1<1.0.0dev,>=0.12.4 in /opt/conda/lib/python3.10/site-packages (from google-cloud-secret-manager) (0.12.6)\n",
      "Requirement already satisfied: botocore<1.32.0,>=1.31.67 in ./.local/lib/python3.10/site-packages (from boto3>=1.19.1->yolov5) (1.31.67)\n",
      "Requirement already satisfied: jmespath<2.0.0,>=0.7.1 in ./.local/lib/python3.10/site-packages (from boto3>=1.19.1->yolov5) (1.0.1)\n",
      "Requirement already satisfied: s3transfer<0.8.0,>=0.7.0 in ./.local/lib/python3.10/site-packages (from boto3>=1.19.1->yolov5) (0.7.0)\n",
      "Requirement already satisfied: gitdb<5,>=4.0.1 in /opt/conda/lib/python3.10/site-packages (from gitpython>=3.1.30->yolov5) (4.0.10)\n",
      "Requirement already satisfied: googleapis-common-protos<2.0dev,>=1.56.2 in /opt/conda/lib/python3.10/site-packages (from google-api-core[grpc]!=2.0.*,!=2.1.*,!=2.10.*,!=2.2.*,!=2.3.*,!=2.4.*,!=2.5.*,!=2.6.*,!=2.7.*,!=2.8.*,!=2.9.*,<3.0.0dev,>=1.34.0->google-cloud-secret-manager) (1.60.0)\n",
      "Requirement already satisfied: google-auth<3.0dev,>=1.25.0 in /opt/conda/lib/python3.10/site-packages (from google-api-core[grpc]!=2.0.*,!=2.1.*,!=2.10.*,!=2.2.*,!=2.3.*,!=2.4.*,!=2.5.*,!=2.6.*,!=2.7.*,!=2.8.*,!=2.9.*,<3.0.0dev,>=1.34.0->google-cloud-secret-manager) (2.23.0)\n",
      "Requirement already satisfied: grpcio<2.0dev,>=1.33.2 in /opt/conda/lib/python3.10/site-packages (from google-api-core[grpc]!=2.0.*,!=2.1.*,!=2.10.*,!=2.2.*,!=2.3.*,!=2.4.*,!=2.5.*,!=2.6.*,!=2.7.*,!=2.8.*,!=2.9.*,<3.0.0dev,>=1.34.0->google-cloud-secret-manager) (1.58.0)\n",
      "Requirement already satisfied: grpcio-status<2.0dev,>=1.33.2 in /opt/conda/lib/python3.10/site-packages (from google-api-core[grpc]!=2.0.*,!=2.1.*,!=2.10.*,!=2.2.*,!=2.3.*,!=2.4.*,!=2.5.*,!=2.6.*,!=2.7.*,!=2.8.*,!=2.9.*,<3.0.0dev,>=1.34.0->google-cloud-secret-manager) (1.48.2)\n",
      "Requirement already satisfied: filelock in /opt/conda/lib/python3.10/site-packages (from huggingface-hub>=0.12.0->yolov5) (3.12.4)\n",
      "Requirement already satisfied: fsspec>=2023.5.0 in /opt/conda/lib/python3.10/site-packages (from huggingface-hub>=0.12.0->yolov5) (2023.9.2)\n",
      "Requirement already satisfied: typing-extensions>=3.7.4.3 in /opt/conda/lib/python3.10/site-packages (from huggingface-hub>=0.12.0->yolov5) (4.8.0)\n",
      "Requirement already satisfied: packaging>=20.9 in /opt/conda/lib/python3.10/site-packages (from huggingface-hub>=0.12.0->yolov5) (23.1)\n",
      "Requirement already satisfied: contourpy>=1.0.1 in /opt/conda/lib/python3.10/site-packages (from matplotlib>=3.3->yolov5) (1.1.1)\n",
      "Requirement already satisfied: cycler>=0.10 in ./.local/lib/python3.10/site-packages (from matplotlib>=3.3->yolov5) (0.10.0)\n",
      "Requirement already satisfied: fonttools>=4.22.0 in /opt/conda/lib/python3.10/site-packages (from matplotlib>=3.3->yolov5) (4.42.1)\n",
      "Requirement already satisfied: kiwisolver>=1.0.1 in /opt/conda/lib/python3.10/site-packages (from matplotlib>=3.3->yolov5) (1.4.5)\n",
      "Requirement already satisfied: pyparsing>=2.3.1 in ./.local/lib/python3.10/site-packages (from matplotlib>=3.3->yolov5) (2.4.7)\n",
      "Requirement already satisfied: python-dateutil>=2.7 in /opt/conda/lib/python3.10/site-packages (from matplotlib>=3.3->yolov5) (2.8.2)\n",
      "Requirement already satisfied: pytz>=2020.1 in /opt/conda/lib/python3.10/site-packages (from pandas>=1.1.4->yolov5) (2023.3.post1)\n",
      "Requirement already satisfied: tzdata>=2022.1 in /opt/conda/lib/python3.10/site-packages (from pandas>=1.1.4->yolov5) (2023.3)\n",
      "Requirement already satisfied: charset-normalizer<4,>=2 in /opt/conda/lib/python3.10/site-packages (from requests>=2.23.0->yolov5) (3.2.0)\n",
      "Requirement already satisfied: idna<4,>=2.5 in ./.local/lib/python3.10/site-packages (from requests>=2.23.0->yolov5) (2.10)\n",
      "Requirement already satisfied: urllib3<3,>=1.21.1 in /opt/conda/lib/python3.10/site-packages (from requests>=2.23.0->yolov5) (1.26.16)\n",
      "Requirement already satisfied: certifi>=2017.4.17 in ./.local/lib/python3.10/site-packages (from requests>=2.23.0->yolov5) (2022.12.7)\n",
      "Requirement already satisfied: chardet==4.0.0 in ./.local/lib/python3.10/site-packages (from roboflow>=0.2.29->yolov5) (4.0.0)\n",
      "Collecting opencv-python-headless==4.8.0.74 (from roboflow>=0.2.29->yolov5)\n",
      "  Obtaining dependency information for opencv-python-headless==4.8.0.74 from https://files.pythonhosted.org/packages/76/02/f128517f3ade4bb5f71e2afd8461dba70e3f466ce745fa1fd1fade9ad1b7/opencv_python_headless-4.8.0.74-cp37-abi3-manylinux_2_17_x86_64.manylinux2014_x86_64.whl.metadata\n",
      "  Using cached opencv_python_headless-4.8.0.74-cp37-abi3-manylinux_2_17_x86_64.manylinux2014_x86_64.whl.metadata (19 kB)\n",
      "Requirement already satisfied: python-dotenv in ./.local/lib/python3.10/site-packages (from roboflow>=0.2.29->yolov5) (1.0.0)\n",
      "Requirement already satisfied: six in /opt/conda/lib/python3.10/site-packages (from roboflow>=0.2.29->yolov5) (1.16.0)\n",
      "Requirement already satisfied: supervision in ./.local/lib/python3.10/site-packages (from roboflow>=0.2.29->yolov5) (0.16.0)\n",
      "Requirement already satisfied: requests-toolbelt in /opt/conda/lib/python3.10/site-packages (from roboflow>=0.2.29->yolov5) (0.10.1)\n",
      "Requirement already satisfied: shapely>=1.8.0 in /opt/conda/lib/python3.10/site-packages (from sahi>=0.11.10->yolov5) (1.8.5.post1)\n",
      "Requirement already satisfied: pybboxes==0.1.6 in ./.local/lib/python3.10/site-packages (from sahi>=0.11.10->yolov5) (0.1.6)\n",
      "Requirement already satisfied: terminaltables in ./.local/lib/python3.10/site-packages (from sahi>=0.11.10->yolov5) (3.1.10)\n",
      "Requirement already satisfied: click in /opt/conda/lib/python3.10/site-packages (from sahi>=0.11.10->yolov5) (8.1.7)\n",
      "Requirement already satisfied: absl-py>=0.4 in /opt/conda/lib/python3.10/site-packages (from tensorboard>=2.4.1->yolov5) (2.0.0)\n",
      "Requirement already satisfied: google-auth-oauthlib<2,>=0.5 in /opt/conda/lib/python3.10/site-packages (from tensorboard>=2.4.1->yolov5) (1.1.0)\n",
      "Requirement already satisfied: markdown>=2.6.8 in ./.local/lib/python3.10/site-packages (from tensorboard>=2.4.1->yolov5) (3.5)\n",
      "Requirement already satisfied: tensorboard-data-server<0.8.0,>=0.7.0 in ./.local/lib/python3.10/site-packages (from tensorboard>=2.4.1->yolov5) (0.7.1)\n",
      "Requirement already satisfied: werkzeug>=1.0.1 in ./.local/lib/python3.10/site-packages (from tensorboard>=2.4.1->yolov5) (3.0.0)\n",
      "Requirement already satisfied: sympy in /opt/conda/lib/python3.10/site-packages (from torch>=1.7.0->yolov5) (1.12)\n",
      "Requirement already satisfied: networkx in /opt/conda/lib/python3.10/site-packages (from torch>=1.7.0->yolov5) (3.1)\n",
      "Requirement already satisfied: jinja2 in /opt/conda/lib/python3.10/site-packages (from torch>=1.7.0->yolov5) (3.1.2)\n",
      "Requirement already satisfied: triton==2.0.0 in /opt/conda/lib/python3.10/site-packages (from torch>=1.7.0->yolov5) (2.0.0)\n",
      "Requirement already satisfied: cmake in /opt/conda/lib/python3.10/site-packages (from triton==2.0.0->torch>=1.7.0->yolov5) (3.27.5)\n",
      "Requirement already satisfied: lit in /opt/conda/lib/python3.10/site-packages (from triton==2.0.0->torch>=1.7.0->yolov5) (17.0.1)\n",
      "Requirement already satisfied: py-cpuinfo in ./.local/lib/python3.10/site-packages (from ultralytics>=8.0.100->yolov5) (9.0.0)\n",
      "Requirement already satisfied: termcolor in ./.local/lib/python3.10/site-packages (from fire->yolov5) (2.3.0)\n",
      "Requirement already satisfied: smmap<6,>=3.0.1 in /opt/conda/lib/python3.10/site-packages (from gitdb<5,>=4.0.1->gitpython>=3.1.30->yolov5) (5.0.1)\n",
      "Requirement already satisfied: cachetools<6.0,>=2.0.0 in /opt/conda/lib/python3.10/site-packages (from google-auth<3.0dev,>=1.25.0->google-api-core[grpc]!=2.0.*,!=2.1.*,!=2.10.*,!=2.2.*,!=2.3.*,!=2.4.*,!=2.5.*,!=2.6.*,!=2.7.*,!=2.8.*,!=2.9.*,<3.0.0dev,>=1.34.0->google-cloud-secret-manager) (5.3.1)\n",
      "Requirement already satisfied: pyasn1-modules>=0.2.1 in /opt/conda/lib/python3.10/site-packages (from google-auth<3.0dev,>=1.25.0->google-api-core[grpc]!=2.0.*,!=2.1.*,!=2.10.*,!=2.2.*,!=2.3.*,!=2.4.*,!=2.5.*,!=2.6.*,!=2.7.*,!=2.8.*,!=2.9.*,<3.0.0dev,>=1.34.0->google-cloud-secret-manager) (0.3.0)\n",
      "Requirement already satisfied: rsa<5,>=3.1.4 in /opt/conda/lib/python3.10/site-packages (from google-auth<3.0dev,>=1.25.0->google-api-core[grpc]!=2.0.*,!=2.1.*,!=2.10.*,!=2.2.*,!=2.3.*,!=2.4.*,!=2.5.*,!=2.6.*,!=2.7.*,!=2.8.*,!=2.9.*,<3.0.0dev,>=1.34.0->google-cloud-secret-manager) (4.9)\n",
      "Requirement already satisfied: requests-oauthlib>=0.7.0 in /opt/conda/lib/python3.10/site-packages (from google-auth-oauthlib<2,>=0.5->tensorboard>=2.4.1->yolov5) (1.3.1)\n",
      "Requirement already satisfied: MarkupSafe>=2.1.1 in /opt/conda/lib/python3.10/site-packages (from werkzeug>=1.0.1->tensorboard>=2.4.1->yolov5) (2.1.3)\n",
      "Requirement already satisfied: mpmath>=0.19 in /opt/conda/lib/python3.10/site-packages (from sympy->torch>=1.7.0->yolov5) (1.3.0)\n",
      "Requirement already satisfied: pyasn1<0.6.0,>=0.4.6 in /opt/conda/lib/python3.10/site-packages (from pyasn1-modules>=0.2.1->google-auth<3.0dev,>=1.25.0->google-api-core[grpc]!=2.0.*,!=2.1.*,!=2.10.*,!=2.2.*,!=2.3.*,!=2.4.*,!=2.5.*,!=2.6.*,!=2.7.*,!=2.8.*,!=2.9.*,<3.0.0dev,>=1.34.0->google-cloud-secret-manager) (0.5.0)\n",
      "Requirement already satisfied: oauthlib>=3.0.0 in /opt/conda/lib/python3.10/site-packages (from requests-oauthlib>=0.7.0->google-auth-oauthlib<2,>=0.5->tensorboard>=2.4.1->yolov5) (3.2.2)\n",
      "Downloading google_cloud_secret_manager-2.16.4-py2.py3-none-any.whl (116 kB)\n",
      "\u001b[2K   \u001b[90m━━━━━━━━━━━━━━━━━━━━━━━━━━━━━━━━━━━━━━━━\u001b[0m \u001b[32m116.6/116.6 kB\u001b[0m \u001b[31m7.1 MB/s\u001b[0m eta \u001b[36m0:00:00\u001b[0m\n",
      "\u001b[?25hUsing cached opencv_python-4.8.1.78-cp37-abi3-manylinux_2_17_x86_64.manylinux2014_x86_64.whl (61.7 MB)\n",
      "Using cached opencv_python_headless-4.8.0.74-cp37-abi3-manylinux_2_17_x86_64.manylinux2014_x86_64.whl (49.1 MB)\n",
      "Installing collected packages: opencv-python-headless, opencv-python, google-cloud-secret-manager\n",
      "  Attempting uninstall: opencv-python-headless\n",
      "    Found existing installation: opencv-python-headless 4.8.1.78\n",
      "    Uninstalling opencv-python-headless-4.8.1.78:\n",
      "      Successfully uninstalled opencv-python-headless-4.8.1.78\n",
      "Successfully installed google-cloud-secret-manager-2.16.4 opencv-python-4.8.1.78 opencv-python-headless-4.8.0.74\n"
     ]
    }
   ],
   "source": [
    "!pip install yolov5 --user"
   ]
  },
  {
   "cell_type": "code",
   "execution_count": 21,
   "id": "53747dc4-c8e5-4952-9d52-79a067c0c36c",
   "metadata": {},
   "outputs": [
    {
     "name": "stdout",
     "output_type": "stream",
     "text": [
      "\u001b[33mWARNING: Skipping opencv-python as it is not installed.\u001b[0m\u001b[33m\n",
      "\u001b[0mFound existing installation: opencv-python-headless 4.8.1.78\n",
      "Uninstalling opencv-python-headless-4.8.1.78:\n",
      "  Successfully uninstalled opencv-python-headless-4.8.1.78\n",
      "Collecting opencv-python-headless\n",
      "  Obtaining dependency information for opencv-python-headless from https://files.pythonhosted.org/packages/9d/d7/e2aaf344254292d2046f9984b54212e4e7d69a57d30ae15e7294840710f6/opencv_python_headless-4.8.1.78-cp37-abi3-manylinux_2_17_x86_64.manylinux2014_x86_64.whl.metadata\n",
      "  Using cached opencv_python_headless-4.8.1.78-cp37-abi3-manylinux_2_17_x86_64.manylinux2014_x86_64.whl.metadata (19 kB)\n",
      "Collecting Pillow==9.5.0\n",
      "  Downloading Pillow-9.5.0-cp310-cp310-manylinux_2_28_x86_64.whl (3.4 MB)\n",
      "\u001b[2K     \u001b[90m━━━━━━━━━━━━━━━━━━━━━━━━━━━━━━━━━━━━━━━━\u001b[0m \u001b[32m3.4/3.4 MB\u001b[0m \u001b[31m46.4 MB/s\u001b[0m eta \u001b[36m0:00:00\u001b[0m00:01\u001b[0m00:01\u001b[0m\n",
      "\u001b[?25hRequirement already satisfied: numpy>=1.21.2 in /opt/conda/lib/python3.10/site-packages (from opencv-python-headless) (1.23.5)\n",
      "Using cached opencv_python_headless-4.8.1.78-cp37-abi3-manylinux_2_17_x86_64.manylinux2014_x86_64.whl (49.1 MB)\n",
      "Installing collected packages: Pillow, opencv-python-headless\n",
      "\u001b[31mERROR: pip's dependency resolver does not currently take into account all the packages that are installed. This behaviour is the source of the following dependency conflicts.\n",
      "sahi 0.11.14 requires opencv-python>=4.2.0.32, which is not installed.\n",
      "ultralytics 8.0.200 requires opencv-python>=4.6.0, which is not installed.\n",
      "yolov5 7.0.13 requires opencv-python>=4.1.1, which is not installed.\n",
      "roboflow 1.1.7 requires opencv-python-headless==4.8.0.74, but you have opencv-python-headless 4.8.1.78 which is incompatible.\u001b[0m\u001b[31m\n",
      "\u001b[0mSuccessfully installed Pillow-9.5.0 opencv-python-headless-4.8.1.78\n"
     ]
    }
   ],
   "source": [
    "!pip uninstall -y opencv-python opencv-python-headless && pip install opencv-python-headless Pillow==9.5.0 --user"
   ]
  },
  {
   "cell_type": "code",
   "execution_count": 19,
   "id": "d46cb5bd-8409-4f7c-babc-d103ebbc06aa",
   "metadata": {},
   "outputs": [
    {
     "name": "stdout",
     "output_type": "stream",
     "text": [
      "Requirement already satisfied: google-cloud-secret-manager in ./.local/lib/python3.10/site-packages (2.16.4)\n",
      "Requirement already satisfied: google-api-core[grpc]!=2.0.*,!=2.1.*,!=2.10.*,!=2.2.*,!=2.3.*,!=2.4.*,!=2.5.*,!=2.6.*,!=2.7.*,!=2.8.*,!=2.9.*,<3.0.0dev,>=1.34.0 in /opt/conda/lib/python3.10/site-packages (from google-cloud-secret-manager) (1.34.0)\n",
      "Requirement already satisfied: proto-plus<2.0.0dev,>=1.22.0 in /opt/conda/lib/python3.10/site-packages (from google-cloud-secret-manager) (1.22.3)\n",
      "Requirement already satisfied: protobuf!=3.20.0,!=3.20.1,!=4.21.0,!=4.21.1,!=4.21.2,!=4.21.3,!=4.21.4,!=4.21.5,<5.0.0dev,>=3.19.5 in /opt/conda/lib/python3.10/site-packages (from google-cloud-secret-manager) (3.20.3)\n",
      "Requirement already satisfied: grpc-google-iam-v1<1.0.0dev,>=0.12.4 in /opt/conda/lib/python3.10/site-packages (from google-cloud-secret-manager) (0.12.6)\n",
      "Requirement already satisfied: googleapis-common-protos<2.0dev,>=1.56.2 in /opt/conda/lib/python3.10/site-packages (from google-api-core[grpc]!=2.0.*,!=2.1.*,!=2.10.*,!=2.2.*,!=2.3.*,!=2.4.*,!=2.5.*,!=2.6.*,!=2.7.*,!=2.8.*,!=2.9.*,<3.0.0dev,>=1.34.0->google-cloud-secret-manager) (1.60.0)\n",
      "Requirement already satisfied: google-auth<3.0dev,>=1.25.0 in /opt/conda/lib/python3.10/site-packages (from google-api-core[grpc]!=2.0.*,!=2.1.*,!=2.10.*,!=2.2.*,!=2.3.*,!=2.4.*,!=2.5.*,!=2.6.*,!=2.7.*,!=2.8.*,!=2.9.*,<3.0.0dev,>=1.34.0->google-cloud-secret-manager) (2.23.0)\n",
      "Requirement already satisfied: requests<3.0.0dev,>=2.18.0 in /opt/conda/lib/python3.10/site-packages (from google-api-core[grpc]!=2.0.*,!=2.1.*,!=2.10.*,!=2.2.*,!=2.3.*,!=2.4.*,!=2.5.*,!=2.6.*,!=2.7.*,!=2.8.*,!=2.9.*,<3.0.0dev,>=1.34.0->google-cloud-secret-manager) (2.31.0)\n",
      "Requirement already satisfied: grpcio<2.0dev,>=1.33.2 in /opt/conda/lib/python3.10/site-packages (from google-api-core[grpc]!=2.0.*,!=2.1.*,!=2.10.*,!=2.2.*,!=2.3.*,!=2.4.*,!=2.5.*,!=2.6.*,!=2.7.*,!=2.8.*,!=2.9.*,<3.0.0dev,>=1.34.0->google-cloud-secret-manager) (1.58.0)\n",
      "Requirement already satisfied: grpcio-status<2.0dev,>=1.33.2 in /opt/conda/lib/python3.10/site-packages (from google-api-core[grpc]!=2.0.*,!=2.1.*,!=2.10.*,!=2.2.*,!=2.3.*,!=2.4.*,!=2.5.*,!=2.6.*,!=2.7.*,!=2.8.*,!=2.9.*,<3.0.0dev,>=1.34.0->google-cloud-secret-manager) (1.48.2)\n",
      "Requirement already satisfied: cachetools<6.0,>=2.0.0 in /opt/conda/lib/python3.10/site-packages (from google-auth<3.0dev,>=1.25.0->google-api-core[grpc]!=2.0.*,!=2.1.*,!=2.10.*,!=2.2.*,!=2.3.*,!=2.4.*,!=2.5.*,!=2.6.*,!=2.7.*,!=2.8.*,!=2.9.*,<3.0.0dev,>=1.34.0->google-cloud-secret-manager) (5.3.1)\n",
      "Requirement already satisfied: pyasn1-modules>=0.2.1 in /opt/conda/lib/python3.10/site-packages (from google-auth<3.0dev,>=1.25.0->google-api-core[grpc]!=2.0.*,!=2.1.*,!=2.10.*,!=2.2.*,!=2.3.*,!=2.4.*,!=2.5.*,!=2.6.*,!=2.7.*,!=2.8.*,!=2.9.*,<3.0.0dev,>=1.34.0->google-cloud-secret-manager) (0.3.0)\n",
      "Requirement already satisfied: rsa<5,>=3.1.4 in /opt/conda/lib/python3.10/site-packages (from google-auth<3.0dev,>=1.25.0->google-api-core[grpc]!=2.0.*,!=2.1.*,!=2.10.*,!=2.2.*,!=2.3.*,!=2.4.*,!=2.5.*,!=2.6.*,!=2.7.*,!=2.8.*,!=2.9.*,<3.0.0dev,>=1.34.0->google-cloud-secret-manager) (4.9)\n",
      "Requirement already satisfied: urllib3<2.0 in /opt/conda/lib/python3.10/site-packages (from google-auth<3.0dev,>=1.25.0->google-api-core[grpc]!=2.0.*,!=2.1.*,!=2.10.*,!=2.2.*,!=2.3.*,!=2.4.*,!=2.5.*,!=2.6.*,!=2.7.*,!=2.8.*,!=2.9.*,<3.0.0dev,>=1.34.0->google-cloud-secret-manager) (1.26.16)\n",
      "Requirement already satisfied: charset-normalizer<4,>=2 in /opt/conda/lib/python3.10/site-packages (from requests<3.0.0dev,>=2.18.0->google-api-core[grpc]!=2.0.*,!=2.1.*,!=2.10.*,!=2.2.*,!=2.3.*,!=2.4.*,!=2.5.*,!=2.6.*,!=2.7.*,!=2.8.*,!=2.9.*,<3.0.0dev,>=1.34.0->google-cloud-secret-manager) (3.2.0)\n",
      "Requirement already satisfied: idna<4,>=2.5 in ./.local/lib/python3.10/site-packages (from requests<3.0.0dev,>=2.18.0->google-api-core[grpc]!=2.0.*,!=2.1.*,!=2.10.*,!=2.2.*,!=2.3.*,!=2.4.*,!=2.5.*,!=2.6.*,!=2.7.*,!=2.8.*,!=2.9.*,<3.0.0dev,>=1.34.0->google-cloud-secret-manager) (2.10)\n",
      "Requirement already satisfied: certifi>=2017.4.17 in ./.local/lib/python3.10/site-packages (from requests<3.0.0dev,>=2.18.0->google-api-core[grpc]!=2.0.*,!=2.1.*,!=2.10.*,!=2.2.*,!=2.3.*,!=2.4.*,!=2.5.*,!=2.6.*,!=2.7.*,!=2.8.*,!=2.9.*,<3.0.0dev,>=1.34.0->google-cloud-secret-manager) (2022.12.7)\n",
      "Requirement already satisfied: pyasn1<0.6.0,>=0.4.6 in /opt/conda/lib/python3.10/site-packages (from pyasn1-modules>=0.2.1->google-auth<3.0dev,>=1.25.0->google-api-core[grpc]!=2.0.*,!=2.1.*,!=2.10.*,!=2.2.*,!=2.3.*,!=2.4.*,!=2.5.*,!=2.6.*,!=2.7.*,!=2.8.*,!=2.9.*,<3.0.0dev,>=1.34.0->google-cloud-secret-manager) (0.5.0)\n"
     ]
    }
   ],
   "source": [
    "!pip install google-cloud-secret-manager --user"
   ]
  },
  {
   "cell_type": "code",
   "execution_count": 16,
   "id": "2751415e-b2a8-48b4-832e-69958d1496e5",
   "metadata": {},
   "outputs": [],
   "source": [
    "from google.cloud import secretmanager\n",
    "secrets = secretmanager.SecretManagerServiceClient()\n",
    "from roboflow import Roboflow\n",
    "import os\n",
    "import yolov5\n",
    "from yolov5 import train, val, detect, export\n",
    "import yaml"
   ]
  },
  {
   "cell_type": "code",
   "execution_count": 13,
   "id": "4886847a-8fb5-430f-86d0-fcbd17b66b0c",
   "metadata": {},
   "outputs": [],
   "source": [
    "cmdOut = !curl -s -H 'Metadata-Flavor:Google' 'http://metadata.google.internal/computeMetadata/v1/project/project-id'\n",
    "project_id = cmdOut[0]\n",
    "roboflow_secret = f\"projects/{project_id}/secrets/roboflow-api-key/versions/latest\"\n",
    "roboflow_api_key = secrets.access_secret_version(secretmanager.AccessSecretVersionRequest(name=roboflow_secret)).payload.data.decode(\"ascii\")"
   ]
  },
  {
   "cell_type": "code",
   "execution_count": 14,
   "id": "cc0c1b8e-23b9-4335-b4e2-6588f9a52a2a",
   "metadata": {},
   "outputs": [
    {
     "name": "stdout",
     "output_type": "stream",
     "text": [
      "loading Roboflow workspace...\n",
      "loading Roboflow project...\n"
     ]
    },
    {
     "name": "stderr",
     "output_type": "stream",
     "text": [
      "Downloading Dataset Version Zip in datasets/chess to yolov5pytorch:: 100%|██████████| 1027723/1027723 [00:24<00:00, 41411.19it/s]"
     ]
    },
    {
     "name": "stdout",
     "output_type": "stream",
     "text": [
      "\n"
     ]
    },
    {
     "name": "stderr",
     "output_type": "stream",
     "text": [
      "\n",
      "Extracting Dataset Version Zip to datasets/chess in yolov5pytorch:: 100%|██████████| 39002/39002 [00:05<00:00, 6574.03it/s] \n"
     ]
    }
   ],
   "source": [
    "rf = Roboflow(api_key=roboflow_api_key)\n",
    "project = rf.workspace(\"deneme-iq93l\").project(\"chessv1-sswl9\")\n",
    "dataset = project.version(4).download(\"yolov5\", location=\"datasets/chess\")"
   ]
  },
  {
   "cell_type": "code",
   "execution_count": 18,
   "id": "2f6cb0f4-8639-4432-b756-48053b01f5ab",
   "metadata": {},
   "outputs": [],
   "source": [
    "with open(\"datasets/chess/data.yaml\", \"r\") as data_yaml_file:\n",
    "    data_yaml = yaml.safe_load(data_yaml_file)\n",
    "data_yaml['test'] = os.path.join(os.getcwd(), \"datasets/chess/test/images\")\n",
    "data_yaml['train'] = os.path.join(os.getcwd(), \"datasets/chess/train/images\")\n",
    "data_yaml['val'] = os.path.join(os.getcwd(), \"datasets/chess/valid/images\")\n",
    "with open(\"datasets/chess/data.yaml\", \"w\") as data_yaml_file:\n",
    "    yaml.dump(data_yaml, data_yaml_file)\n"
   ]
  },
  {
   "cell_type": "code",
   "execution_count": null,
   "id": "bc538fd1-9c97-496c-b4ca-2b5c38cc5a81",
   "metadata": {},
   "outputs": [
    {
     "name": "stdout",
     "output_type": "stream",
     "text": [
      "\u001b[34m\u001b[1mtrain: \u001b[0mweights=yolov5x.pt, cfg=, data=datasets/chess/data.yaml, hyp=.local/lib/python3.10/site-packages/yolov5/data/hyps/hyp.scratch-low.yaml, epochs=100, batch_size=16, imgsz=640, rect=False, resume=False, nosave=False, noval=False, noautoanchor=False, noplots=False, evolve=None, bucket=, cache=None, image_weights=False, device=, multi_scale=False, single_cls=False, optimizer=SGD, sync_bn=False, workers=8, project=runs/train, name=exp, exist_ok=False, quad=False, cos_lr=False, label_smoothing=0.0, patience=100, freeze=[0], save_period=-1, seed=0, local_rank=-1, entity=None, bbox_interval=-1, artifact_alias=latest, neptune_token=None, neptune_project=None, neptune_resume_id=None, s3_upload_dir=None, upload_dataset=False, hf_model_id=None, hf_token=None, hf_private=False, hf_dataset_id=None, roboflow_token=None, roboflow_upload=False\n",
      "\u001b[31m\u001b[1mrequirements:\u001b[0m /home/jupyter/.local/lib/python3.10/site-packages/requirements.txt not found, check failed.\n",
      "YOLOv5 🚀 2023-10-20 Python-3.10.12 torch-2.0.0+cu118 CUDA:0 (Tesla T4, 14910MiB)\n",
      "\n",
      "\u001b[34m\u001b[1mhyperparameters: \u001b[0mlr0=0.01, lrf=0.01, momentum=0.937, weight_decay=0.0005, warmup_epochs=3.0, warmup_momentum=0.8, warmup_bias_lr=0.1, box=0.05, cls=0.5, cls_pw=1.0, obj=1.0, obj_pw=1.0, iou_t=0.2, anchor_t=4.0, fl_gamma=0.0, hsv_h=0.015, hsv_s=0.7, hsv_v=0.4, degrees=0.0, translate=0.1, scale=0.5, shear=0.0, perspective=0.0, flipud=0.0, fliplr=0.5, mosaic=1.0, mixup=0.0, copy_paste=0.0\n",
      "\u001b[34m\u001b[1mClearML: \u001b[0mrun 'pip install clearml' to automatically track, visualize and remotely train YOLOv5 🚀 in ClearML\n",
      "\u001b[34m\u001b[1mComet: \u001b[0mrun 'pip install comet_ml' to automatically track and visualize YOLOv5 🚀 runs in Comet\n",
      "\u001b[34m\u001b[1mTensorBoard: \u001b[0mStart with 'tensorboard --logdir runs/train', view at http://localhost:6006/\n",
      "Overriding model.yaml nc=80 with nc=12\n",
      "\n",
      "                 from  n    params  module                                  arguments                     \n",
      "  0                -1  1      8800  yolov5.models.common.Conv               [3, 80, 6, 2, 2]              \n",
      "  1                -1  1    115520  yolov5.models.common.Conv               [80, 160, 3, 2]               \n",
      "  2                -1  4    309120  yolov5.models.common.C3                 [160, 160, 4]                 \n",
      "  3                -1  1    461440  yolov5.models.common.Conv               [160, 320, 3, 2]              \n",
      "  4                -1  8   2259200  yolov5.models.common.C3                 [320, 320, 8]                 \n",
      "  5                -1  1   1844480  yolov5.models.common.Conv               [320, 640, 3, 2]              \n",
      "  6                -1 12  13125120  yolov5.models.common.C3                 [640, 640, 12]                \n",
      "  7                -1  1   7375360  yolov5.models.common.Conv               [640, 1280, 3, 2]             \n",
      "  8                -1  4  19676160  yolov5.models.common.C3                 [1280, 1280, 4]               \n",
      "  9                -1  1   4099840  yolov5.models.common.SPPF               [1280, 1280, 5]               \n",
      " 10                -1  1    820480  yolov5.models.common.Conv               [1280, 640, 1, 1]             \n",
      " 11                -1  1         0  torch.nn.modules.upsampling.Upsample    [None, 2, 'nearest']          \n",
      " 12           [-1, 6]  1         0  yolov5.models.common.Concat             [1]                           \n",
      " 13                -1  4   5332480  yolov5.models.common.C3                 [1280, 640, 4, False]         \n",
      " 14                -1  1    205440  yolov5.models.common.Conv               [640, 320, 1, 1]              \n",
      " 15                -1  1         0  torch.nn.modules.upsampling.Upsample    [None, 2, 'nearest']          \n",
      " 16           [-1, 4]  1         0  yolov5.models.common.Concat             [1]                           \n",
      " 17                -1  4   1335040  yolov5.models.common.C3                 [640, 320, 4, False]          \n",
      " 18                -1  1    922240  yolov5.models.common.Conv               [320, 320, 3, 2]              \n",
      " 19          [-1, 14]  1         0  yolov5.models.common.Concat             [1]                           \n",
      " 20                -1  4   4922880  yolov5.models.common.C3                 [640, 640, 4, False]          \n",
      " 21                -1  1   3687680  yolov5.models.common.Conv               [640, 640, 3, 2]              \n",
      " 22          [-1, 10]  1         0  yolov5.models.common.Concat             [1]                           \n",
      " 23                -1  4  19676160  yolov5.models.common.C3                 [1280, 1280, 4, False]        \n",
      " 24      [17, 20, 23]  1    114393  yolov5.models.yolo.Detect               [12, [[10, 13, 16, 30, 33, 23], [30, 61, 62, 45, 59, 119], [116, 90, 156, 198, 373, 326]], [320, 640, 1280]]\n",
      "Model summary: 445 layers, 86291833 parameters, 86291833 gradients, 204.9 GFLOPs\n",
      "\n",
      "Transferred 739/745 items from yolov5x.pt\n",
      "\u001b[34m\u001b[1mAMP: \u001b[0mchecks passed ✅\n",
      "\u001b[34m\u001b[1moptimizer:\u001b[0m SGD(lr=0.01) with parameter groups 123 weight(decay=0.0), 126 weight(decay=0.0005), 126 bias\n",
      "\u001b[34m\u001b[1mtrain: \u001b[0mScanning /home/jupyter/datasets/chess/train/labels.cache... 18369 images,\u001b[0m\n",
      "\u001b[34m\u001b[1mtrain: \u001b[0mWARNING ⚠️ /home/jupyter/datasets/chess/train/images/26d663ab5ffbec49f9dc8e592982cfd4_jpg.rf.195c45182285cb52646c6a3e0e075ec3.jpg: 1 duplicate labels removed\n",
      "\u001b[34m\u001b[1mtrain: \u001b[0mWARNING ⚠️ /home/jupyter/datasets/chess/train/images/26d663ab5ffbec49f9dc8e592982cfd4_jpg.rf.31d827563c0099bc1a1086431ee810bd.jpg: 1 duplicate labels removed\n",
      "\u001b[34m\u001b[1mtrain: \u001b[0mWARNING ⚠️ /home/jupyter/datasets/chess/train/images/26d663ab5ffbec49f9dc8e592982cfd4_jpg.rf.3aedb2abf217378d6cbf797345138116.jpg: 1 duplicate labels removed\n",
      "\u001b[34m\u001b[1mtrain: \u001b[0mWARNING ⚠️ /home/jupyter/datasets/chess/train/images/26d663ab5ffbec49f9dc8e592982cfd4_jpg.rf.69a394102fb5a8a3c466c28cc90e891e.jpg: 1 duplicate labels removed\n",
      "\u001b[34m\u001b[1mtrain: \u001b[0mWARNING ⚠️ /home/jupyter/datasets/chess/train/images/26d663ab5ffbec49f9dc8e592982cfd4_jpg.rf.7264aef69b44f329244c27f0d1b805e4.jpg: 1 duplicate labels removed\n",
      "\u001b[34m\u001b[1mtrain: \u001b[0mWARNING ⚠️ /home/jupyter/datasets/chess/train/images/26d663ab5ffbec49f9dc8e592982cfd4_jpg.rf.a2c9ede0e06e68f7bfc2ecd51a43d511.jpg: 1 duplicate labels removed\n",
      "\u001b[34m\u001b[1mtrain: \u001b[0mWARNING ⚠️ /home/jupyter/datasets/chess/train/images/26d663ab5ffbec49f9dc8e592982cfd4_jpg.rf.b5cca75d95ae05ee198efa8ef8f4dbd7.jpg: 1 duplicate labels removed\n",
      "\u001b[34m\u001b[1mtrain: \u001b[0mWARNING ⚠️ /home/jupyter/datasets/chess/train/images/26d663ab5ffbec49f9dc8e592982cfd4_jpg.rf.d6ec8a309f68da730a5d6f21ce80801c.jpg: 1 duplicate labels removed\n",
      "\u001b[34m\u001b[1mtrain: \u001b[0mWARNING ⚠️ /home/jupyter/datasets/chess/train/images/26d663ab5ffbec49f9dc8e592982cfd4_jpg.rf.fd5864bbdc7f0f42b78f30511380c902.jpg: 1 duplicate labels removed\n",
      "\u001b[34m\u001b[1mtrain: \u001b[0mWARNING ⚠️ /home/jupyter/datasets/chess/train/images/338_jpg.rf.29bcc7efffea5405efeb40e7b3827fbe.jpg: 1 duplicate labels removed\n",
      "\u001b[34m\u001b[1mtrain: \u001b[0mWARNING ⚠️ /home/jupyter/datasets/chess/train/images/338_jpg.rf.9b4d7ada7843354fa86309646a8edf49.jpg: 1 duplicate labels removed\n",
      "\u001b[34m\u001b[1mtrain: \u001b[0mWARNING ⚠️ /home/jupyter/datasets/chess/train/images/338_jpg.rf.e2b2deadeaf30385190b6f32c50f9452.jpg: 1 duplicate labels removed\n",
      "\u001b[34m\u001b[1mtrain: \u001b[0mWARNING ⚠️ /home/jupyter/datasets/chess/train/images/IMG20210319024106_jpg.rf.00a7acfefac8334140e99b375ca589df.jpg: 1 duplicate labels removed\n",
      "\u001b[34m\u001b[1mtrain: \u001b[0mWARNING ⚠️ /home/jupyter/datasets/chess/train/images/IMG20210319024106_jpg.rf.0b0fed3c29ab0cc8781babd55d1722fb.jpg: 1 duplicate labels removed\n",
      "\u001b[34m\u001b[1mtrain: \u001b[0mWARNING ⚠️ /home/jupyter/datasets/chess/train/images/IMG20210319024106_jpg.rf.0e5c5bd486acb1c8b7920c2863d344de.jpg: 1 duplicate labels removed\n",
      "\u001b[34m\u001b[1mtrain: \u001b[0mWARNING ⚠️ /home/jupyter/datasets/chess/train/images/IMG20210513214003_jpg.rf.47eeeaa8a60e564911802c4e9fc44b61.jpg: 1 duplicate labels removed\n",
      "\u001b[34m\u001b[1mtrain: \u001b[0mWARNING ⚠️ /home/jupyter/datasets/chess/train/images/IMG20210513214003_jpg.rf.6b1a7ded7ba699cc955bf387ce962fd3.jpg: 1 duplicate labels removed\n",
      "\u001b[34m\u001b[1mtrain: \u001b[0mWARNING ⚠️ /home/jupyter/datasets/chess/train/images/IMG20210513214003_jpg.rf.7dbf1f2aa50dc62315756f2175137de4.jpg: 1 duplicate labels removed\n",
      "\u001b[34m\u001b[1mtrain: \u001b[0mWARNING ⚠️ /home/jupyter/datasets/chess/train/images/IMG_20200908_230810_jpg.rf.69ceee830fe44bb42e8fb5986af7a99c.jpg: 1 duplicate labels removed\n",
      "\u001b[34m\u001b[1mtrain: \u001b[0mWARNING ⚠️ /home/jupyter/datasets/chess/train/images/IMG_20200908_230810_jpg.rf.ba80c29864d8b51df8cbc741c0a347e3.jpg: 1 duplicate labels removed\n",
      "\u001b[34m\u001b[1mtrain: \u001b[0mWARNING ⚠️ /home/jupyter/datasets/chess/train/images/IMG_20200908_230810_jpg.rf.e9a99c93b3a96fd59e7d952b2cd4570c.jpg: 1 duplicate labels removed\n",
      "\u001b[34m\u001b[1mtrain: \u001b[0mWARNING ⚠️ /home/jupyter/datasets/chess/train/images/IMG_20200909_000303_jpg.rf.44a30c5e7d603ae75be105ee411f28c9.jpg: 1 duplicate labels removed\n",
      "\u001b[34m\u001b[1mtrain: \u001b[0mWARNING ⚠️ /home/jupyter/datasets/chess/train/images/IMG_20200909_000303_jpg.rf.9371da949b50632312d8a9f70ba98260.jpg: 1 duplicate labels removed\n",
      "\u001b[34m\u001b[1mtrain: \u001b[0mWARNING ⚠️ /home/jupyter/datasets/chess/train/images/IMG_20200909_000303_jpg.rf.c4ca424b516bcd9db70d72fc19f78852.jpg: 1 duplicate labels removed\n",
      "\u001b[34m\u001b[1mtrain: \u001b[0mWARNING ⚠️ /home/jupyter/datasets/chess/train/images/IMG_20200909_000455_jpg.rf.12bec878eb39d7640e2fccb5d9e14249.jpg: 1 duplicate labels removed\n",
      "\u001b[34m\u001b[1mtrain: \u001b[0mWARNING ⚠️ /home/jupyter/datasets/chess/train/images/IMG_20200909_000455_jpg.rf.22cf7eba87bf58d41bb44bf6874e01ff.jpg: 1 duplicate labels removed\n",
      "\u001b[34m\u001b[1mtrain: \u001b[0mWARNING ⚠️ /home/jupyter/datasets/chess/train/images/IMG_20200909_000455_jpg.rf.2b5e78cd3e3c0d8febbd1e7173af0310.jpg: 1 duplicate labels removed\n",
      "\u001b[34m\u001b[1mtrain: \u001b[0mWARNING ⚠️ /home/jupyter/datasets/chess/train/images/IMG_20200909_000652_jpg.rf.696e0fe048283703a9532063e08803b6.jpg: 2 duplicate labels removed\n",
      "\u001b[34m\u001b[1mtrain: \u001b[0mWARNING ⚠️ /home/jupyter/datasets/chess/train/images/IMG_20200909_000652_jpg.rf.9f70fc6b5ea18de6275ba7061cce3e91.jpg: 2 duplicate labels removed\n",
      "\u001b[34m\u001b[1mtrain: \u001b[0mWARNING ⚠️ /home/jupyter/datasets/chess/train/images/IMG_20200909_000652_jpg.rf.b0e96efe67cc041725abf12ecf3982b6.jpg: 2 duplicate labels removed\n",
      "\u001b[34m\u001b[1mval: \u001b[0mScanning /home/jupyter/datasets/chess/valid/labels.cache... 1110 images, 0 \u001b[0m\n",
      "\u001b[34m\u001b[1mval: \u001b[0mWARNING ⚠️ /home/jupyter/datasets/chess/valid/images/IMG_20200830_213649_jpg.rf.8ad8b02e54e45cea49600f22750fc2f9.jpg: 1 duplicate labels removed\n",
      "\u001b[34m\u001b[1mval: \u001b[0mWARNING ⚠️ /home/jupyter/datasets/chess/valid/images/IMG_20200830_213924_jpg.rf.650ba6ffb64502ecd1f5e6e8bf0d0c44.jpg: 1 duplicate labels removed\n",
      "\n",
      "\u001b[34m\u001b[1mAutoAnchor: \u001b[0m6.23 anchors/target, 1.000 Best Possible Recall (BPR). Current anchors are a good fit to dataset ✅\n",
      "Plotting labels to runs/train/exp2/labels.jpg... \n",
      "Image sizes 640 train, 640 val\n",
      "Using 4 dataloader workers\n",
      "Logging results to \u001b[1mruns/train/exp2\u001b[0m\n",
      "Starting training for 100 epochs...\n",
      "\n",
      "      Epoch    GPU_mem   box_loss   obj_loss   cls_loss  Instances       Size\n",
      "       0/99      14.3G     0.0601     0.1053    0.05947         58        640: 1\n",
      "                 Class     Images  Instances          P          R      mAP50   \n",
      "                   all       1110      22080       0.18      0.469      0.196     0.0942\n",
      "\n",
      "      Epoch    GPU_mem   box_loss   obj_loss   cls_loss  Instances       Size\n",
      "       1/99      13.8G    0.04948    0.09211    0.04562         24        640: 1\n",
      "                 Class     Images  Instances          P          R      mAP50   \n",
      "                   all       1110      22080      0.405      0.511      0.368      0.215\n",
      "\n",
      "      Epoch    GPU_mem   box_loss   obj_loss   cls_loss  Instances       Size\n",
      "       2/99      13.4G    0.04683    0.09204    0.03624          1        640: 1\n",
      "                 Class     Images  Instances          P          R      mAP50   \n",
      "                   all       1110      22080      0.627      0.577      0.539      0.319\n",
      "\n",
      "      Epoch    GPU_mem   box_loss   obj_loss   cls_loss  Instances       Size\n",
      "       3/99      14.2G    0.04466    0.09067    0.03071        229        640:  "
     ]
    }
   ],
   "source": [
    "!~/.local/bin/yolov5 train --weights=yolov5x.pt --data=datasets/chess/data.yaml --batch-size=16"
   ]
  },
  {
   "cell_type": "code",
   "execution_count": null,
   "id": "98ef7532-03cc-4f9b-8b89-f60065d3c8ea",
   "metadata": {},
   "outputs": [],
   "source": []
  }
 ],
 "metadata": {
  "kernelspec": {
   "display_name": "PyTorch 2.0 (Local)",
   "language": "python",
   "name": "local-pytorch-2-0"
  },
  "language_info": {
   "codemirror_mode": {
    "name": "ipython",
    "version": 3
   },
   "file_extension": ".py",
   "mimetype": "text/x-python",
   "name": "python",
   "nbconvert_exporter": "python",
   "pygments_lexer": "ipython3",
   "version": "3.10.12"
  }
 },
 "nbformat": 4,
 "nbformat_minor": 5
}
