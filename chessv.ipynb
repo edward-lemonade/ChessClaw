{
 "cells": [
  {
   "cell_type": "markdown",
   "metadata": {},
   "source": [
    "Training a pre-trained VGG16 to recognize the chess pieces"
   ]
  },
  {
   "cell_type": "code",
   "execution_count": 13,
   "metadata": {},
   "outputs": [],
   "source": [
    "import numpy as np\n",
    "import keras\n",
    "from keras.preprocessing.image import ImageDataGenerator\n",
    "from matplotlib import pyplot as plt\n",
    "import itertools\n",
    "from keras.applications.vgg16 import VGG16\n",
    "from keras.layers.core import Dense\n",
    "from keras.optimizers import Adam\n",
    "from sklearn.metrics import confusion_matrix\n",
    "%matplotlib inline"
   ]
  },
  {
   "cell_type": "code",
   "execution_count": 2,
   "metadata": {},
   "outputs": [],
   "source": [
    "prefix=\"./dataset/chessv\"\n",
    "train_path=f\"{prefix}/train\"\n",
    "validate_path=f\"{prefix}/validate\"\n",
    "test_path=f\"{prefix}/test\""
   ]
  },
  {
   "cell_type": "code",
   "execution_count": 3,
   "metadata": {},
   "outputs": [],
   "source": [
    "class_labels =  [   \"white_pawn\", \"white_knight\", \"white_bishop\", \"white_rook\", \"white_queen\", \"white_king\",\n",
    "                    \"black_pawn\", \"black_knight\", \"black_bishop\", \"black_rook\", \"black_queen\", \"black_king\",\n",
    "                    \"blank\", \n",
    "                ]"
   ]
  },
  {
   "cell_type": "code",
   "execution_count": 10,
   "metadata": {},
   "outputs": [
    {
     "name": "stdout",
     "output_type": "stream",
     "text": [
      "Found 512 images belonging to 13 classes.\n",
      "Found 512 images belonging to 13 classes.\n",
      "Found 64 images belonging to 13 classes.\n"
     ]
    }
   ],
   "source": [
    "train_batch=ImageDataGenerator().flow_from_directory(train_path, target_size=(224, 224), classes=class_labels, batch_size=64)\n",
    "validate_batch=ImageDataGenerator().flow_from_directory(validate_path, target_size=(224, 224), classes=class_labels, batch_size=8)\n",
    "test_batch=ImageDataGenerator().flow_from_directory(test_path, target_size=(224, 224), classes=class_labels, batch_size=64)"
   ]
  },
  {
   "cell_type": "code",
   "execution_count": 5,
   "metadata": {},
   "outputs": [
    {
     "name": "stdout",
     "output_type": "stream",
     "text": [
      "Model: \"sequential\"\n",
      "_________________________________________________________________\n",
      " Layer (type)                Output Shape              Param #   \n",
      "=================================================================\n",
      " block1_conv1 (Conv2D)       (None, 224, 224, 64)      1792      \n",
      "                                                                 \n",
      " block1_conv2 (Conv2D)       (None, 224, 224, 64)      36928     \n",
      "                                                                 \n",
      " block1_pool (MaxPooling2D)  (None, 112, 112, 64)      0         \n",
      "                                                                 \n",
      " block2_conv1 (Conv2D)       (None, 112, 112, 128)     73856     \n",
      "                                                                 \n",
      " block2_conv2 (Conv2D)       (None, 112, 112, 128)     147584    \n",
      "                                                                 \n",
      " block2_pool (MaxPooling2D)  (None, 56, 56, 128)       0         \n",
      "                                                                 \n",
      " block3_conv1 (Conv2D)       (None, 56, 56, 256)       295168    \n",
      "                                                                 \n",
      " block3_conv2 (Conv2D)       (None, 56, 56, 256)       590080    \n",
      "                                                                 \n",
      " block3_conv3 (Conv2D)       (None, 56, 56, 256)       590080    \n",
      "                                                                 \n",
      " block3_pool (MaxPooling2D)  (None, 28, 28, 256)       0         \n",
      "                                                                 \n",
      " block4_conv1 (Conv2D)       (None, 28, 28, 512)       1180160   \n",
      "                                                                 \n",
      " block4_conv2 (Conv2D)       (None, 28, 28, 512)       2359808   \n",
      "                                                                 \n",
      " block4_conv3 (Conv2D)       (None, 28, 28, 512)       2359808   \n",
      "                                                                 \n",
      " block4_pool (MaxPooling2D)  (None, 14, 14, 512)       0         \n",
      "                                                                 \n",
      " block5_conv1 (Conv2D)       (None, 14, 14, 512)       2359808   \n",
      "                                                                 \n",
      " block5_conv2 (Conv2D)       (None, 14, 14, 512)       2359808   \n",
      "                                                                 \n",
      " block5_conv3 (Conv2D)       (None, 14, 14, 512)       2359808   \n",
      "                                                                 \n",
      " block5_pool (MaxPooling2D)  (None, 7, 7, 512)         0         \n",
      "                                                                 \n",
      " flatten (Flatten)           (None, 25088)             0         \n",
      "                                                                 \n",
      " fc1 (Dense)                 (None, 4096)              102764544 \n",
      "                                                                 \n",
      " fc2 (Dense)                 (None, 4096)              16781312  \n",
      "                                                                 \n",
      " dense (Dense)               (None, 13)                53261     \n",
      "                                                                 \n",
      "=================================================================\n",
      "Total params: 134,313,805\n",
      "Trainable params: 53,261\n",
      "Non-trainable params: 134,260,544\n",
      "_________________________________________________________________\n"
     ]
    }
   ],
   "source": [
    "pretrained = VGG16()\n",
    "model = keras.models.Sequential()\n",
    "map(model.add, pretrained.layers[:-1])\n",
    "for x in pretrained.layers[:-1]:\n",
    "    x.trainable = False\n",
    "    model.add(x)\n",
    "model.add(Dense(13, activation=\"softmax\"))\n",
    "model.summary()"
   ]
  },
  {
   "cell_type": "code",
   "execution_count": 6,
   "metadata": {},
   "outputs": [
    {
     "name": "stderr",
     "output_type": "stream",
     "text": [
      "C:\\Users\\Charles\\AppData\\Local\\Temp\\ipykernel_340924\\216266962.py:2: UserWarning: `Model.fit_generator` is deprecated and will be removed in a future version. Please use `Model.fit`, which supports generators.\n",
      "  model.fit_generator(train_batch, steps_per_epoch=8, epochs=5, validation_data=validate_batch, validation_steps=64, verbose=2)\n"
     ]
    },
    {
     "name": "stdout",
     "output_type": "stream",
     "text": [
      "Epoch 1/5\n",
      "8/8 - 702s - loss: 3.2994 - accuracy: 0.0703 - val_loss: 2.6705 - val_accuracy: 0.1660 - 702s/epoch - 88s/step\n",
      "Epoch 2/5\n",
      "8/8 - 681s - loss: 2.4132 - accuracy: 0.2598 - val_loss: 2.1325 - val_accuracy: 0.3789 - 681s/epoch - 85s/step\n",
      "Epoch 3/5\n",
      "8/8 - 684s - loss: 1.9665 - accuracy: 0.4473 - val_loss: 1.7558 - val_accuracy: 0.4902 - 684s/epoch - 86s/step\n",
      "Epoch 4/5\n",
      "8/8 - 685s - loss: 1.6329 - accuracy: 0.5117 - val_loss: 1.4834 - val_accuracy: 0.5488 - 685s/epoch - 86s/step\n",
      "Epoch 5/5\n",
      "8/8 - 680s - loss: 1.4088 - accuracy: 0.5762 - val_loss: 1.3018 - val_accuracy: 0.6055 - 680s/epoch - 85s/step\n"
     ]
    },
    {
     "data": {
      "text/plain": [
       "<keras.callbacks.History at 0x1cf000325e0>"
      ]
     },
     "execution_count": 6,
     "metadata": {},
     "output_type": "execute_result"
    }
   ],
   "source": [
    "model.compile(Adam(learning_rate=0.0001), loss=\"categorical_crossentropy\", metrics=[\"accuracy\"])\n",
    "model.fit_generator(train_batch, steps_per_epoch=8, epochs=5, validation_data=validate_batch, validation_steps=64, verbose=2)"
   ]
  },
  {
   "cell_type": "markdown",
   "metadata": {},
   "source": [
    "Seems that it could benefit from more iterations."
   ]
  },
  {
   "cell_type": "code",
   "execution_count": 7,
   "metadata": {},
   "outputs": [
    {
     "name": "stderr",
     "output_type": "stream",
     "text": [
      "C:\\Users\\Charles\\AppData\\Local\\Temp\\ipykernel_340924\\1292936048.py:1: UserWarning: `Model.fit_generator` is deprecated and will be removed in a future version. Please use `Model.fit`, which supports generators.\n",
      "  model.fit_generator(train_batch, steps_per_epoch=8, epochs=3, validation_data=validate_batch, validation_steps=64, verbose=2)\n"
     ]
    },
    {
     "name": "stdout",
     "output_type": "stream",
     "text": [
      "Epoch 1/3\n",
      "8/8 - 679s - loss: 1.2470 - accuracy: 0.6133 - val_loss: 1.1612 - val_accuracy: 0.6426 - 679s/epoch - 85s/step\n",
      "Epoch 2/3\n",
      "8/8 - 661s - loss: 1.1190 - accuracy: 0.6582 - val_loss: 1.0486 - val_accuracy: 0.6797 - 661s/epoch - 83s/step\n",
      "Epoch 3/3\n",
      "8/8 - 1836s - loss: 1.0150 - accuracy: 0.7051 - val_loss: 0.9565 - val_accuracy: 0.7188 - 1836s/epoch - 229s/step\n"
     ]
    },
    {
     "data": {
      "text/plain": [
       "<keras.callbacks.History at 0x1cf4cd65760>"
      ]
     },
     "execution_count": 7,
     "metadata": {},
     "output_type": "execute_result"
    }
   ],
   "source": [
    "model.fit_generator(train_batch, steps_per_epoch=8, epochs=3, validation_data=validate_batch, validation_steps=64, verbose=2)"
   ]
  },
  {
   "cell_type": "code",
   "execution_count": 8,
   "metadata": {},
   "outputs": [
    {
     "name": "stdout",
     "output_type": "stream",
     "text": [
      "Epoch 1/5\n",
      "8/8 - 681s - loss: 0.9299 - accuracy: 0.7305 - val_loss: 0.8793 - val_accuracy: 0.7363 - 681s/epoch - 85s/step\n",
      "Epoch 2/5\n",
      "8/8 - 688s - loss: 0.8565 - accuracy: 0.7500 - val_loss: 0.8107 - val_accuracy: 0.7773 - 688s/epoch - 86s/step\n",
      "Epoch 3/5\n",
      "8/8 - 674s - loss: 0.7950 - accuracy: 0.7812 - val_loss: 0.7539 - val_accuracy: 0.7969 - 674s/epoch - 84s/step\n",
      "Epoch 4/5\n",
      "8/8 - 684s - loss: 0.7353 - accuracy: 0.7930 - val_loss: 0.7010 - val_accuracy: 0.8086 - 684s/epoch - 86s/step\n",
      "Epoch 5/5\n",
      "8/8 - 672s - loss: 0.6866 - accuracy: 0.8125 - val_loss: 0.6545 - val_accuracy: 0.8340 - 672s/epoch - 84s/step\n"
     ]
    },
    {
     "data": {
      "text/plain": [
       "<keras.callbacks.History at 0x1cf021b7820>"
      ]
     },
     "execution_count": 8,
     "metadata": {},
     "output_type": "execute_result"
    }
   ],
   "source": [
    "model.fit(train_batch, steps_per_epoch=8, epochs=5, validation_data=validate_batch, validation_steps=64, verbose=2)"
   ]
  },
  {
   "cell_type": "code",
   "execution_count": 9,
   "metadata": {},
   "outputs": [
    {
     "name": "stdout",
     "output_type": "stream",
     "text": [
      "Epoch 1/5\n",
      "8/8 - 682s - loss: 0.6399 - accuracy: 0.8320 - val_loss: 0.6126 - val_accuracy: 0.8359 - 682s/epoch - 85s/step\n",
      "Epoch 2/5\n",
      "8/8 - 680s - loss: 0.6008 - accuracy: 0.8359 - val_loss: 0.5745 - val_accuracy: 0.8496 - 680s/epoch - 85s/step\n",
      "Epoch 3/5\n",
      "8/8 - 679s - loss: 0.5645 - accuracy: 0.8496 - val_loss: 0.5406 - val_accuracy: 0.8516 - 679s/epoch - 85s/step\n",
      "Epoch 4/5\n",
      "8/8 - 677s - loss: 0.5305 - accuracy: 0.8555 - val_loss: 0.5100 - val_accuracy: 0.8633 - 677s/epoch - 85s/step\n",
      "Epoch 5/5\n",
      "8/8 - 689s - loss: 0.5029 - accuracy: 0.8652 - val_loss: 0.4814 - val_accuracy: 0.8828 - 689s/epoch - 86s/step\n"
     ]
    },
    {
     "data": {
      "text/plain": [
       "<keras.callbacks.History at 0x1cf021fad00>"
      ]
     },
     "execution_count": 9,
     "metadata": {},
     "output_type": "execute_result"
    }
   ],
   "source": [
    "model.fit(train_batch, steps_per_epoch=8, epochs=5, validation_data=validate_batch, validation_steps=64, verbose=2)"
   ]
  },
  {
   "cell_type": "code",
   "execution_count": 16,
   "metadata": {},
   "outputs": [
    {
     "name": "stderr",
     "output_type": "stream",
     "text": [
      "C:\\Users\\Charles\\AppData\\Local\\Temp\\ipykernel_340924\\1508928653.py:1: UserWarning: `Model.predict_generator` is deprecated and will be removed in a future version. Please use `Model.predict`, which supports generators.\n",
      "  predictions = model.predict_generator(test_batch, steps=1, verbose=0)\n"
     ]
    }
   ],
   "source": [
    "predictions = model.predict_generator(test_batch, steps=1, verbose=0)"
   ]
  },
  {
   "cell_type": "code",
   "execution_count": 25,
   "metadata": {},
   "outputs": [],
   "source": [
    "def plot_confusion_map(cm, classes, normalize=False, title=\"confusion matrix\", cmap=plt.cm.Blues):\n",
    "    plt.imshow(cm, interpolation=\"nearest\", cmap=cmap)\n",
    "    plt.title(title)\n",
    "    plt.colorbar()\n",
    "    tick_marks = np.arange(len(classes))\n",
    "    plt.xticks(tick_marks, classes, rotation=45)\n",
    "    plt.yticks(tick_marks, classes)\n",
    "    if normalize:\n",
    "        cm = cm.astype(\"float\") / cm.sum(axis=1)[:, np.newaxis]\n",
    "        print(\"Normalized confusion matrix\")\n",
    "    else:\n",
    "        print(\"Confusion matrix without normalization\")\n",
    "    print(cm)\n",
    "    thresh = cm.max() / 2\n",
    "    for i, j in itertools.product(range(cm.shape[0], cm.shape[1])):\n",
    "        plt.text(j, i, cm[i,j],\n",
    "                 horizontalalignment=\"center\",\n",
    "                 color=\"white\" if cm[i, j] > thresh else \"black\")\n",
    "    plt.tight_layout()\n",
    "    plt.ylabel(\"True label\")\n",
    "    plt.xlabel(\"Predicted label\")\n"
   ]
  },
  {
   "cell_type": "code",
   "execution_count": 26,
   "metadata": {},
   "outputs": [
    {
     "name": "stdout",
     "output_type": "stream",
     "text": [
      "Confusion matrix without normalization\n",
      "[[ 2  0  0  0  1  0  0  0  0  0  0  0  5]\n",
      " [ 0  0  0  0  0  0  1  0  1  0  0  0  0]\n",
      " [ 0  0  0  0  0  1  0  0  0  0  0  0  1]\n",
      " [ 0  0  0  0  0  0  1  0  0  0  0  0  1]\n",
      " [ 0  0  0  0  0  0  1  0  0  0  0  0  1]\n",
      " [ 0  0  0  0  0  0  0  0  0  0  0  0  1]\n",
      " [ 1  1  0  0  0  0  1  0  0  0  0  0  5]\n",
      " [ 0  0  0  0  0  0  0  0  0  0  0  0  2]\n",
      " [ 1  0  0  0  0  0  0  0  0  0  0  0  2]\n",
      " [ 0  0  0  0  0  0  1  0  0  0  0  0  1]\n",
      " [ 0  0  0  0  0  0  0  0  0  0  0  0  1]\n",
      " [ 0  0  0  0  0  0  0  0  0  0  0  0  1]\n",
      " [ 3  1  1  0  1  1  6  1  1  0  0  0 15]]\n"
     ]
    },
    {
     "data": {
      "image/png": "[encoded data removed]",
      "text/plain": [
       "<Figure size 640x480 with 2 Axes>"
      ]
     },
     "metadata": {},
     "output_type": "display_data"
    }
   ],
   "source": [
    "t_images, t_data = next(test_batch)\n",
    "p_map = [ max([(v, i) for i, v in enumerate(r)])[1] for r in predictions ]\n",
    "t_map = [ max([(v, i) for i, v in enumerate(r)])[1] for r in t_data ]\n",
    "cm = confusion_matrix(t_map, p_map)\n",
    "plot_confusion_map(cm, class_labels)"
   ]
  }
 ],
 "metadata": {
  "kernelspec": {
   "display_name": "chessv",
   "language": "python",
   "name": "python3"
  },
  "language_info": {
   "codemirror_mode": {
    "name": "ipython",
    "version": 3
   },
   "file_extension": ".py",
   "mimetype": "text/x-python",
   "name": "python",
   "nbconvert_exporter": "python",
   "pygments_lexer": "ipython3",
   "version": "3.9.4"
  }
 },
 "nbformat": 4,
 "nbformat_minor": 2
}
