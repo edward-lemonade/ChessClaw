{
 "cells": [
  {
   "cell_type": "markdown",
   "metadata": {},
   "source": [
    "Training a pre-trained VGG16 to recognize the chess pieces"
   ]
  },
  {
   "cell_type": "code",
   "execution_count": 1,
   "metadata": {},
   "outputs": [],
   "source": [
    "import numpy as np\n",
    "import keras\n",
    "from keras.preprocessing.image import ImageDataGenerator\n",
    "from matplotlib import pyplot as plt\n",
    "import itertools\n",
    "from keras.applications.vgg16 import VGG16\n",
    "from keras.layers.core import Dense\n",
    "from keras import layers\n",
    "from keras.optimizers import Adam\n",
    "from sklearn.metrics import confusion_matrix\n",
    "%matplotlib inline"
   ]
  },
  {
   "cell_type": "code",
   "execution_count": 2,
   "metadata": {},
   "outputs": [],
   "source": [
    "prefix=\"./dataset/chessv\"\n",
    "train_path=f\"{prefix}/train\"\n",
    "validate_path=f\"{prefix}/validate\"\n",
    "test_path=f\"{prefix}/test\""
   ]
  },
  {
   "cell_type": "code",
   "execution_count": 3,
   "metadata": {},
   "outputs": [],
   "source": [
    "class_labels =  [   \"white_pawn\", \"white_knight\", \"white_bishop\", \"white_rook\", \"white_queen\", \"white_king\",\n",
    "                    \"black_pawn\", \"black_knight\", \"black_bishop\", \"black_rook\", \"black_queen\", \"black_king\",\n",
    "                    \"blank\", \n",
    "                ]"
   ]
  },
  {
   "cell_type": "code",
   "execution_count": 4,
   "metadata": {},
   "outputs": [
    {
     "name": "stdout",
     "output_type": "stream",
     "text": [
      "Found 512 images belonging to 13 classes.\n",
      "Found 512 images belonging to 13 classes.\n",
      "Found 64 images belonging to 13 classes.\n"
     ]
    }
   ],
   "source": [
    "train_batch=ImageDataGenerator().flow_from_directory(train_path, target_size=(224, 224), classes=class_labels, batch_size=64)\n",
    "validate_batch=ImageDataGenerator().flow_from_directory(validate_path, target_size=(224, 224), classes=class_labels, batch_size=8)\n",
    "test_batch=ImageDataGenerator().flow_from_directory(test_path, target_size=(224, 224), classes=class_labels, batch_size=64)"
   ]
  },
  {
   "cell_type": "code",
   "execution_count": 5,
   "metadata": {},
   "outputs": [
    {
     "name": "stdout",
     "output_type": "stream",
     "text": [
      "Model: \"sequential\"\n",
      "_________________________________________________________________\n",
      " Layer (type)                Output Shape              Param #   \n",
      "=================================================================\n",
      " input_1 (InputLayer)        multiple                  0         \n",
      "                                                                 \n",
      " block1_conv1 (Conv2D)       (None, 224, 224, 64)      1792      \n",
      "                                                                 \n",
      " block1_conv2 (Conv2D)       (None, 224, 224, 64)      36928     \n",
      "                                                                 \n",
      " block1_pool (MaxPooling2D)  (None, 112, 112, 64)      0         \n",
      "                                                                 \n",
      " block2_conv1 (Conv2D)       (None, 112, 112, 128)     73856     \n",
      "                                                                 \n",
      " block2_conv2 (Conv2D)       (None, 112, 112, 128)     147584    \n",
      "                                                                 \n",
      " block2_pool (MaxPooling2D)  (None, 56, 56, 128)       0         \n",
      "                                                                 \n",
      " block3_conv1 (Conv2D)       (None, 56, 56, 256)       295168    \n",
      "                                                                 \n",
      " block3_conv2 (Conv2D)       (None, 56, 56, 256)       590080    \n",
      "                                                                 \n",
      " block3_conv3 (Conv2D)       (None, 56, 56, 256)       590080    \n",
      "                                                                 \n",
      " block3_pool (MaxPooling2D)  (None, 28, 28, 256)       0         \n",
      "                                                                 \n",
      " block4_conv1 (Conv2D)       (None, 28, 28, 512)       1180160   \n",
      "                                                                 \n",
      " block4_conv2 (Conv2D)       (None, 28, 28, 512)       2359808   \n",
      "                                                                 \n",
      " block4_conv3 (Conv2D)       (None, 28, 28, 512)       2359808   \n",
      "                                                                 \n",
      " block4_pool (MaxPooling2D)  (None, 14, 14, 512)       0         \n",
      "                                                                 \n",
      " block5_conv1 (Conv2D)       (None, 14, 14, 512)       2359808   \n",
      "                                                                 \n",
      " block5_conv2 (Conv2D)       (None, 14, 14, 512)       2359808   \n",
      "                                                                 \n",
      " block5_conv3 (Conv2D)       (None, 14, 14, 512)       2359808   \n",
      "                                                                 \n",
      " block5_pool (MaxPooling2D)  (None, 7, 7, 512)         0         \n",
      "                                                                 \n",
      " flatten (Flatten)           (None, 25088)             0         \n",
      "                                                                 \n",
      " fc1 (Dense)                 (None, 4096)              102764544 \n",
      "                                                                 \n",
      " fc2 (Dense)                 (None, 4096)              16781312  \n",
      "                                                                 \n",
      " dense (Dense)               (None, 13)                53261     \n",
      "                                                                 \n",
      "=================================================================\n",
      "Total params: 134,313,805\n",
      "Trainable params: 53,261\n",
      "Non-trainable params: 134,260,544\n",
      "_________________________________________________________________\n"
     ]
    }
   ],
   "source": [
    "pretrained = VGG16()\n",
    "model = keras.models.Sequential()\n",
    "model.add(layers.Input((224,224,3)))\n",
    "map(model.add, pretrained.layers[:-1])\n",
    "for x in pretrained.layers[:-1]:\n",
    "    x.trainable = False\n",
    "    model.add(x)\n",
    "model.add(Dense(13, activation=\"softmax\"))\n",
    "model.summary()"
   ]
  },
  {
   "cell_type": "code",
   "execution_count": 6,
   "metadata": {},
   "outputs": [
    {
     "name": "stderr",
     "output_type": "stream",
     "text": [
      "C:\\Users\\Charles\\AppData\\Local\\Temp\\ipykernel_397932\\216266962.py:2: UserWarning: `Model.fit_generator` is deprecated and will be removed in a future version. Please use `Model.fit`, which supports generators.\n",
      "  model.fit_generator(train_batch, steps_per_epoch=8, epochs=5, validation_data=validate_batch, validation_steps=64, verbose=2)\n"
     ]
    },
    {
     "name": "stdout",
     "output_type": "stream",
     "text": [
      "Epoch 1/5\n",
      "8/8 - 696s - loss: 2.7306 - accuracy: 0.2344 - val_loss: 2.2472 - val_accuracy: 0.3691 - 696s/epoch - 87s/step\n",
      "Epoch 2/5\n",
      "8/8 - 683s - loss: 2.1094 - accuracy: 0.4082 - val_loss: 1.9148 - val_accuracy: 0.4629 - 683s/epoch - 85s/step\n",
      "Epoch 3/5\n",
      "8/8 - 683s - loss: 1.8032 - accuracy: 0.4863 - val_loss: 1.6433 - val_accuracy: 0.5098 - 683s/epoch - 85s/step\n",
      "Epoch 4/5\n",
      "8/8 - 677s - loss: 1.5518 - accuracy: 0.5215 - val_loss: 1.4227 - val_accuracy: 0.5527 - 677s/epoch - 85s/step\n",
      "Epoch 5/5\n",
      "8/8 - 672s - loss: 1.3541 - accuracy: 0.5703 - val_loss: 1.2514 - val_accuracy: 0.6074 - 672s/epoch - 84s/step\n"
     ]
    },
    {
     "data": {
      "text/plain": [
       "<keras.callbacks.History at 0x2708027e0d0>"
      ]
     },
     "execution_count": 6,
     "metadata": {},
     "output_type": "execute_result"
    }
   ],
   "source": [
    "model.compile(Adam(learning_rate=0.0001), loss=\"categorical_crossentropy\", metrics=[\"accuracy\"])\n",
    "model.fit(train_batch, steps_per_epoch=8, epochs=5, validation_data=validate_batch, validation_steps=64, verbose=2)"
   ]
  },
  {
   "cell_type": "markdown",
   "metadata": {},
   "source": [
    "Seems that it could benefit from more iterations."
   ]
  },
  {
   "cell_type": "code",
   "execution_count": 7,
   "metadata": {},
   "outputs": [
    {
     "name": "stderr",
     "output_type": "stream",
     "text": [
      "C:\\Users\\Charles\\AppData\\Local\\Temp\\ipykernel_397932\\1292936048.py:1: UserWarning: `Model.fit_generator` is deprecated and will be removed in a future version. Please use `Model.fit`, which supports generators.\n",
      "  model.fit_generator(train_batch, steps_per_epoch=8, epochs=3, validation_data=validate_batch, validation_steps=64, verbose=2)\n"
     ]
    },
    {
     "name": "stdout",
     "output_type": "stream",
     "text": [
      "Epoch 1/3\n",
      "8/8 - 682s - loss: 1.1999 - accuracy: 0.6387 - val_loss: 1.1149 - val_accuracy: 0.6523 - 682s/epoch - 85s/step\n",
      "Epoch 2/3\n",
      "8/8 - 692s - loss: 1.0727 - accuracy: 0.6758 - val_loss: 1.0036 - val_accuracy: 0.6914 - 692s/epoch - 87s/step\n",
      "Epoch 3/3\n",
      "8/8 - 1044s - loss: 0.9731 - accuracy: 0.6914 - val_loss: 0.9147 - val_accuracy: 0.7129 - 1044s/epoch - 131s/step\n"
     ]
    },
    {
     "data": {
      "text/plain": [
       "<keras.callbacks.History at 0x270808a9190>"
      ]
     },
     "execution_count": 7,
     "metadata": {},
     "output_type": "execute_result"
    }
   ],
   "source": [
    "model.fit(train_batch, steps_per_epoch=8, epochs=3, validation_data=validate_batch, validation_steps=64, verbose=2)"
   ]
  },
  {
   "cell_type": "code",
   "execution_count": 8,
   "metadata": {},
   "outputs": [
    {
     "name": "stdout",
     "output_type": "stream",
     "text": [
      "Epoch 1/5\n",
      "8/8 - 879s - loss: 0.8838 - accuracy: 0.7266 - val_loss: 0.8359 - val_accuracy: 0.7617 - 879s/epoch - 110s/step\n",
      "Epoch 2/5\n",
      "8/8 - 952s - loss: 0.8153 - accuracy: 0.7656 - val_loss: 0.7686 - val_accuracy: 0.7812 - 952s/epoch - 119s/step\n",
      "Epoch 3/5\n",
      "8/8 - 687s - loss: 0.7496 - accuracy: 0.7891 - val_loss: 0.7105 - val_accuracy: 0.8008 - 687s/epoch - 86s/step\n",
      "Epoch 4/5\n",
      "8/8 - 675s - loss: 0.6958 - accuracy: 0.8086 - val_loss: 0.6588 - val_accuracy: 0.8203 - 675s/epoch - 84s/step\n",
      "Epoch 5/5\n",
      "8/8 - 2391s - loss: 0.6440 - accuracy: 0.8262 - val_loss: 0.6136 - val_accuracy: 0.8320 - 2391s/epoch - 299s/step\n"
     ]
    },
    {
     "data": {
      "text/plain": [
       "<keras.callbacks.History at 0x270808e3c10>"
      ]
     },
     "execution_count": 8,
     "metadata": {},
     "output_type": "execute_result"
    }
   ],
   "source": [
    "model.fit(train_batch, steps_per_epoch=8, epochs=5, validation_data=validate_batch, validation_steps=64, verbose=2)"
   ]
  },
  {
   "cell_type": "code",
   "execution_count": 9,
   "metadata": {},
   "outputs": [
    {
     "name": "stdout",
     "output_type": "stream",
     "text": [
      "Epoch 1/5\n",
      "8/8 - 687s - loss: 0.6019 - accuracy: 0.8438 - val_loss: 0.5739 - val_accuracy: 0.8555 - 687s/epoch - 86s/step\n",
      "Epoch 2/5\n",
      "8/8 - 681s - loss: 0.5624 - accuracy: 0.8594 - val_loss: 0.5375 - val_accuracy: 0.8672 - 681s/epoch - 85s/step\n",
      "Epoch 3/5\n",
      "8/8 - 678s - loss: 0.5272 - accuracy: 0.8672 - val_loss: 0.5039 - val_accuracy: 0.8789 - 678s/epoch - 85s/step\n",
      "Epoch 4/5\n",
      "8/8 - 648s - loss: 0.4968 - accuracy: 0.8789 - val_loss: 0.4748 - val_accuracy: 0.8906 - 648s/epoch - 81s/step\n",
      "Epoch 5/5\n",
      "8/8 - 678s - loss: 0.4689 - accuracy: 0.8887 - val_loss: 0.4472 - val_accuracy: 0.8984 - 678s/epoch - 85s/step\n"
     ]
    },
    {
     "data": {
      "text/plain": [
       "<keras.callbacks.History at 0x27080b92130>"
      ]
     },
     "execution_count": 9,
     "metadata": {},
     "output_type": "execute_result"
    }
   ],
   "source": [
    "model.fit(train_batch, steps_per_epoch=8, epochs=5, validation_data=validate_batch, validation_steps=64, verbose=2)"
   ]
  },
  {
   "cell_type": "code",
   "execution_count": 14,
   "metadata": {},
   "outputs": [],
   "source": [
    "predictions = model.predict(test_batch, steps=1, verbose=0)"
   ]
  },
  {
   "cell_type": "code",
   "execution_count": 19,
   "metadata": {},
   "outputs": [],
   "source": [
    "def plot_confusion_map(cm, classes, normalize=False, title=\"confusion matrix\", cmap=plt.cm.Blues):\n",
    "    plt.imshow(cm, interpolation=\"nearest\", cmap=cmap)\n",
    "    plt.title(title)\n",
    "    plt.colorbar()\n",
    "    tick_marks = np.arange(len(classes))\n",
    "    plt.xticks(tick_marks, classes, rotation=45, horizontalalignment=\"right\")\n",
    "    plt.yticks(tick_marks, classes)\n",
    "    if normalize:\n",
    "        cm = cm.astype(\"float\") / cm.sum(axis=1)[:, np.newaxis]\n",
    "        print(\"Normalized confusion matrix\")\n",
    "    else:\n",
    "        print(\"Confusion matrix without normalization\")\n",
    "    print(cm)\n",
    "    thresh = cm.max() / 2\n",
    "    for i, j in itertools.product(range(cm.shape[0], cm.shape[1])):\n",
    "        plt.text(j, i, cm[i,j],\n",
    "                 horizontalalignment=\"center\",\n",
    "                 color=\"white\" if cm[i, j] > thresh else \"black\")\n",
    "    plt.tight_layout()\n",
    "    plt.ylabel(\"True label\")\n",
    "    plt.xlabel(\"Predicted label\")\n"
   ]
  },
  {
   "cell_type": "code",
   "execution_count": 20,
   "metadata": {},
   "outputs": [
    {
     "name": "stdout",
     "output_type": "stream",
     "text": [
      "Confusion matrix without normalization\n",
      "[[ 0  0  1  0  0  0  1  0  0  0  0  0  6]\n",
      " [ 0  0  0  0  0  0  0  0  0  0  0  0  2]\n",
      " [ 0  0  0  0  0  0  0  0  0  0  0  0  2]\n",
      " [ 0  0  0  0  0  0  0  0  0  0  0  0  2]\n",
      " [ 0  0  0  0  1  0  0  0  0  0  0  0  1]\n",
      " [ 0  0  0  0  0  0  0  0  0  0  0  0  1]\n",
      " [ 1  0  0  0  1  0  4  0  0  0  0  0  2]\n",
      " [ 0  0  0  0  0  0  0  0  0  0  0  0  2]\n",
      " [ 0  0  0  0  1  0  0  0  0  0  0  0  2]\n",
      " [ 1  0  0  0  0  0  0  0  0  0  0  0  1]\n",
      " [ 0  0  0  0  0  0  0  0  0  0  0  0  1]\n",
      " [ 0  0  0  0  0  0  1  0  0  0  0  0  0]\n",
      " [ 2  0  0  0  0  0  2  0  4  1  0  0 21]]\n"
     ]
    },
    {
     "data": {
      "image/png": "[encoded data removed]",
      "text/plain": [
       "<Figure size 640x480 with 2 Axes>"
      ]
     },
     "metadata": {},
     "output_type": "display_data"
    }
   ],
   "source": [
    "t_images, t_data = next(test_batch)\n",
    "p_map = [ max([(v, i) for i, v in enumerate(r)])[1] for r in predictions ]\n",
    "t_map = [ max([(v, i) for i, v in enumerate(r)])[1] for r in t_data ]\n",
    "cm = confusion_matrix(t_map, p_map)\n",
    "plot_confusion_map(cm, class_labels)"
   ]
  }
 ],
 "metadata": {
  "kernelspec": {
   "display_name": "chessv",
   "language": "python",
   "name": "python3"
  },
  "language_info": {
   "codemirror_mode": {
    "name": "ipython",
    "version": 3
   },
   "file_extension": ".py",
   "mimetype": "text/x-python",
   "name": "python",
   "nbconvert_exporter": "python",
   "pygments_lexer": "ipython3",
   "version": "3.9.4"
  }
 },
 "nbformat": 4,
 "nbformat_minor": 2
}
